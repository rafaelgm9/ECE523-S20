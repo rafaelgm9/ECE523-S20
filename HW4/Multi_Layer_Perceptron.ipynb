{
  "nbformat": 4,
  "nbformat_minor": 0,
  "metadata": {
    "colab": {
      "name": "Multi-Layer-Perceptron",
      "provenance": []
    },
    "kernelspec": {
      "name": "python3",
      "display_name": "Python 3"
    }
  },
  "cells": [
    {
      "cell_type": "code",
      "metadata": {
        "id": "uAY64a5hjJQJ",
        "colab_type": "code",
        "colab": {}
      },
      "source": [
        "import numpy as np\n",
        "import tensorflow as tf\n",
        "from tensorflow.keras.layers import Input, Flatten, Dense\n",
        "from tensorflow.keras.models import Model\n",
        "from tensorflow.keras.datasets import mnist\n",
        "from matplotlib import pyplot as plt"
      ],
      "execution_count": 0,
      "outputs": []
    },
    {
      "cell_type": "code",
      "metadata": {
        "id": "ROXbieEdjs4M",
        "colab_type": "code",
        "colab": {}
      },
      "source": [
        "(X_train, y_train), (X_test, y_test) = mnist.load_data()\n",
        "\n",
        "X_train = X_train / 255.\n",
        "X_test = X_test / 255."
      ],
      "execution_count": 0,
      "outputs": []
    },
    {
      "cell_type": "code",
      "metadata": {
        "id": "OREIlaBDkEBy",
        "colab_type": "code",
        "colab": {
          "base_uri": "https://localhost:8080/",
          "height": 766
        },
        "outputId": "00e6a833-ad56-4097-cc3a-fefa42886fb0"
      },
      "source": [
        "input_img = Input(shape=(28, 28))\n",
        "x = Flatten()(input_img)\n",
        "x = Dense(50, activation=\"relu\")(x)\n",
        "classification_layer = Dense(10)(x)\n",
        "\n",
        "model = Model(input_img, classification_layer)\n",
        "model.compile(optimizer=tf.keras.optimizers.Adam(lr=0.01),\n",
        "              loss=tf.keras.losses.SparseCategoricalCrossentropy(from_logits=True),\n",
        "              metrics=[\"accuracy\"])\n",
        "model.summary()\n",
        "\n",
        "model.fit(X_train, y_train,\n",
        "          epochs=10,\n",
        "          batch_size=128,\n",
        "          shuffle=True,\n",
        "          validation_data=(X_test, y_test))"
      ],
      "execution_count": 25,
      "outputs": [
        {
          "output_type": "stream",
          "text": [
            "Model: \"model_7\"\n",
            "_________________________________________________________________\n",
            "Layer (type)                 Output Shape              Param #   \n",
            "=================================================================\n",
            "input_10 (InputLayer)        [(None, 28, 28)]          0         \n",
            "_________________________________________________________________\n",
            "flatten_8 (Flatten)          (None, 784)               0         \n",
            "_________________________________________________________________\n",
            "dense_14 (Dense)             (None, 50)                39250     \n",
            "_________________________________________________________________\n",
            "dense_15 (Dense)             (None, 10)                510       \n",
            "=================================================================\n",
            "Total params: 39,760\n",
            "Trainable params: 39,760\n",
            "Non-trainable params: 0\n",
            "_________________________________________________________________\n",
            "Epoch 1/10\n",
            "469/469 [==============================] - 1s 3ms/step - loss: 0.2623 - accuracy: 0.9216 - val_loss: 0.1688 - val_accuracy: 0.9490\n",
            "Epoch 2/10\n",
            "469/469 [==============================] - 1s 3ms/step - loss: 0.1392 - accuracy: 0.9583 - val_loss: 0.1367 - val_accuracy: 0.9586\n",
            "Epoch 3/10\n",
            "469/469 [==============================] - 1s 3ms/step - loss: 0.1114 - accuracy: 0.9655 - val_loss: 0.1449 - val_accuracy: 0.9589\n",
            "Epoch 4/10\n",
            "469/469 [==============================] - 1s 3ms/step - loss: 0.1016 - accuracy: 0.9697 - val_loss: 0.1468 - val_accuracy: 0.9581\n",
            "Epoch 5/10\n",
            "469/469 [==============================] - 1s 3ms/step - loss: 0.0863 - accuracy: 0.9738 - val_loss: 0.1397 - val_accuracy: 0.9640\n",
            "Epoch 6/10\n",
            "469/469 [==============================] - 1s 3ms/step - loss: 0.0823 - accuracy: 0.9746 - val_loss: 0.1618 - val_accuracy: 0.9565\n",
            "Epoch 7/10\n",
            "469/469 [==============================] - 1s 3ms/step - loss: 0.0758 - accuracy: 0.9768 - val_loss: 0.1428 - val_accuracy: 0.9653\n",
            "Epoch 8/10\n",
            "469/469 [==============================] - 1s 3ms/step - loss: 0.0740 - accuracy: 0.9772 - val_loss: 0.1493 - val_accuracy: 0.9660\n",
            "Epoch 9/10\n",
            "469/469 [==============================] - 1s 3ms/step - loss: 0.0689 - accuracy: 0.9785 - val_loss: 0.1400 - val_accuracy: 0.9685\n",
            "Epoch 10/10\n",
            "469/469 [==============================] - 1s 3ms/step - loss: 0.0632 - accuracy: 0.9803 - val_loss: 0.1485 - val_accuracy: 0.9674\n"
          ],
          "name": "stdout"
        },
        {
          "output_type": "execute_result",
          "data": {
            "text/plain": [
              "<tensorflow.python.keras.callbacks.History at 0x7f001f298780>"
            ]
          },
          "metadata": {
            "tags": []
          },
          "execution_count": 25
        }
      ]
    },
    {
      "cell_type": "code",
      "metadata": {
        "id": "2nsknGZflKMD",
        "colab_type": "code",
        "colab": {
          "base_uri": "https://localhost:8080/",
          "height": 766
        },
        "outputId": "7fa159f8-92f7-45f1-e126-89c948a393eb"
      },
      "source": [
        "input_img = Input(shape=(28, 28))\n",
        "x = Flatten()(input_img)\n",
        "x = Dense(150, activation=\"relu\")(x)\n",
        "classification_layer = Dense(10)(x)\n",
        "\n",
        "model = Model(input_img, classification_layer)\n",
        "model.compile(optimizer=tf.keras.optimizers.Adam(lr=0.01),\n",
        "              loss=tf.keras.losses.SparseCategoricalCrossentropy(from_logits=True),\n",
        "              metrics=[\"accuracy\"])\n",
        "model.summary()\n",
        "\n",
        "model.fit(X_train, y_train,\n",
        "          epochs=10,\n",
        "          batch_size=128,\n",
        "          shuffle=True,\n",
        "          validation_data=(X_test, y_test))"
      ],
      "execution_count": 26,
      "outputs": [
        {
          "output_type": "stream",
          "text": [
            "Model: \"model_8\"\n",
            "_________________________________________________________________\n",
            "Layer (type)                 Output Shape              Param #   \n",
            "=================================================================\n",
            "input_11 (InputLayer)        [(None, 28, 28)]          0         \n",
            "_________________________________________________________________\n",
            "flatten_9 (Flatten)          (None, 784)               0         \n",
            "_________________________________________________________________\n",
            "dense_16 (Dense)             (None, 150)               117750    \n",
            "_________________________________________________________________\n",
            "dense_17 (Dense)             (None, 10)                1510      \n",
            "=================================================================\n",
            "Total params: 119,260\n",
            "Trainable params: 119,260\n",
            "Non-trainable params: 0\n",
            "_________________________________________________________________\n",
            "Epoch 1/10\n",
            "469/469 [==============================] - 2s 4ms/step - loss: 0.2224 - accuracy: 0.9329 - val_loss: 0.1084 - val_accuracy: 0.9671\n",
            "Epoch 2/10\n",
            "469/469 [==============================] - 2s 4ms/step - loss: 0.1077 - accuracy: 0.9672 - val_loss: 0.1129 - val_accuracy: 0.9653\n",
            "Epoch 3/10\n",
            "469/469 [==============================] - 2s 4ms/step - loss: 0.0851 - accuracy: 0.9737 - val_loss: 0.1306 - val_accuracy: 0.9633\n",
            "Epoch 4/10\n",
            "469/469 [==============================] - 2s 4ms/step - loss: 0.0800 - accuracy: 0.9750 - val_loss: 0.1037 - val_accuracy: 0.9716\n",
            "Epoch 5/10\n",
            "469/469 [==============================] - 2s 4ms/step - loss: 0.0647 - accuracy: 0.9801 - val_loss: 0.1398 - val_accuracy: 0.9668\n",
            "Epoch 6/10\n",
            "469/469 [==============================] - 2s 4ms/step - loss: 0.0643 - accuracy: 0.9808 - val_loss: 0.1442 - val_accuracy: 0.9684\n",
            "Epoch 7/10\n",
            "469/469 [==============================] - 2s 4ms/step - loss: 0.0634 - accuracy: 0.9814 - val_loss: 0.1412 - val_accuracy: 0.9683\n",
            "Epoch 8/10\n",
            "469/469 [==============================] - 2s 4ms/step - loss: 0.0615 - accuracy: 0.9824 - val_loss: 0.1272 - val_accuracy: 0.9717\n",
            "Epoch 9/10\n",
            "469/469 [==============================] - 2s 4ms/step - loss: 0.0477 - accuracy: 0.9862 - val_loss: 0.1495 - val_accuracy: 0.9723\n",
            "Epoch 10/10\n",
            "469/469 [==============================] - 2s 4ms/step - loss: 0.0519 - accuracy: 0.9856 - val_loss: 0.1493 - val_accuracy: 0.9702\n"
          ],
          "name": "stdout"
        },
        {
          "output_type": "execute_result",
          "data": {
            "text/plain": [
              "<tensorflow.python.keras.callbacks.History at 0x7f001f35ef60>"
            ]
          },
          "metadata": {
            "tags": []
          },
          "execution_count": 26
        }
      ]
    },
    {
      "cell_type": "code",
      "metadata": {
        "id": "U4bm2u6BldRV",
        "colab_type": "code",
        "colab": {
          "base_uri": "https://localhost:8080/",
          "height": 766
        },
        "outputId": "6977ef44-3652-4e39-a622-3055dd510eb8"
      },
      "source": [
        "input_img = Input(shape=(28, 28))\n",
        "x = Flatten()(input_img)\n",
        "x = Dense(50, activation=\"relu\", kernel_regularizer=tf.keras.regularizers.l2(l=0.001))(x)\n",
        "classification_layer = Dense(10)(x)\n",
        "\n",
        "model = Model(input_img, classification_layer)\n",
        "model.compile(optimizer=tf.keras.optimizers.Adam(lr=0.01),\n",
        "              loss=tf.keras.losses.SparseCategoricalCrossentropy(from_logits=True),\n",
        "              metrics=[\"accuracy\"])\n",
        "model.summary()\n",
        "\n",
        "model.fit(X_train, y_train,\n",
        "          epochs=10,\n",
        "          batch_size=128,\n",
        "          shuffle=True,\n",
        "          validation_data=(X_test, y_test))"
      ],
      "execution_count": 35,
      "outputs": [
        {
          "output_type": "stream",
          "text": [
            "Model: \"model_17\"\n",
            "_________________________________________________________________\n",
            "Layer (type)                 Output Shape              Param #   \n",
            "=================================================================\n",
            "input_20 (InputLayer)        [(None, 28, 28)]          0         \n",
            "_________________________________________________________________\n",
            "flatten_18 (Flatten)         (None, 784)               0         \n",
            "_________________________________________________________________\n",
            "dense_34 (Dense)             (None, 50)                39250     \n",
            "_________________________________________________________________\n",
            "dense_35 (Dense)             (None, 10)                510       \n",
            "=================================================================\n",
            "Total params: 39,760\n",
            "Trainable params: 39,760\n",
            "Non-trainable params: 0\n",
            "_________________________________________________________________\n",
            "Epoch 1/10\n",
            "469/469 [==============================] - 1s 3ms/step - loss: 0.4018 - accuracy: 0.9128 - val_loss: 0.3123 - val_accuracy: 0.9390\n",
            "Epoch 2/10\n",
            "469/469 [==============================] - 1s 3ms/step - loss: 0.3264 - accuracy: 0.9380 - val_loss: 0.3508 - val_accuracy: 0.9288\n",
            "Epoch 3/10\n",
            "469/469 [==============================] - 1s 3ms/step - loss: 0.3132 - accuracy: 0.9417 - val_loss: 0.3090 - val_accuracy: 0.9392\n",
            "Epoch 4/10\n",
            "469/469 [==============================] - 1s 3ms/step - loss: 0.3144 - accuracy: 0.9430 - val_loss: 0.2880 - val_accuracy: 0.9468\n",
            "Epoch 5/10\n",
            "469/469 [==============================] - 1s 3ms/step - loss: 0.3057 - accuracy: 0.9450 - val_loss: 0.3624 - val_accuracy: 0.9268\n",
            "Epoch 6/10\n",
            "469/469 [==============================] - 1s 3ms/step - loss: 0.3090 - accuracy: 0.9431 - val_loss: 0.2758 - val_accuracy: 0.9542\n",
            "Epoch 7/10\n",
            "469/469 [==============================] - 1s 3ms/step - loss: 0.3030 - accuracy: 0.9452 - val_loss: 0.3045 - val_accuracy: 0.9436\n",
            "Epoch 8/10\n",
            "469/469 [==============================] - 1s 3ms/step - loss: 0.2968 - accuracy: 0.9463 - val_loss: 0.2992 - val_accuracy: 0.9449\n",
            "Epoch 9/10\n",
            "469/469 [==============================] - 1s 3ms/step - loss: 0.2971 - accuracy: 0.9452 - val_loss: 0.3073 - val_accuracy: 0.9428\n",
            "Epoch 10/10\n",
            "469/469 [==============================] - 1s 3ms/step - loss: 0.2899 - accuracy: 0.9469 - val_loss: 0.2822 - val_accuracy: 0.9498\n"
          ],
          "name": "stdout"
        },
        {
          "output_type": "execute_result",
          "data": {
            "text/plain": [
              "<tensorflow.python.keras.callbacks.History at 0x7f0017f90390>"
            ]
          },
          "metadata": {
            "tags": []
          },
          "execution_count": 35
        }
      ]
    },
    {
      "cell_type": "code",
      "metadata": {
        "id": "Skus_6-boe7V",
        "colab_type": "code",
        "colab": {
          "base_uri": "https://localhost:8080/",
          "height": 766
        },
        "outputId": "198e0ab8-c0ea-410a-ed95-9b2389761a48"
      },
      "source": [
        "input_img = Input(shape=(28, 28))\n",
        "x = Flatten()(input_img)\n",
        "x = Dense(250, activation=\"relu\", kernel_regularizer=tf.keras.regularizers.l2(l=0.001))(x)\n",
        "classification_layer = Dense(10)(x)\n",
        "\n",
        "model = Model(input_img, classification_layer)\n",
        "model.compile(optimizer=tf.keras.optimizers.Adam(lr=0.01),\n",
        "              loss=tf.keras.losses.SparseCategoricalCrossentropy(from_logits=True),\n",
        "              metrics=[\"accuracy\"])\n",
        "model.summary()\n",
        "\n",
        "model.fit(X_train, y_train,\n",
        "          epochs=10,\n",
        "          batch_size=128,\n",
        "          shuffle=True,\n",
        "          validation_data=(X_test, y_test))"
      ],
      "execution_count": 36,
      "outputs": [
        {
          "output_type": "stream",
          "text": [
            "Model: \"model_18\"\n",
            "_________________________________________________________________\n",
            "Layer (type)                 Output Shape              Param #   \n",
            "=================================================================\n",
            "input_21 (InputLayer)        [(None, 28, 28)]          0         \n",
            "_________________________________________________________________\n",
            "flatten_19 (Flatten)         (None, 784)               0         \n",
            "_________________________________________________________________\n",
            "dense_36 (Dense)             (None, 250)               196250    \n",
            "_________________________________________________________________\n",
            "dense_37 (Dense)             (None, 10)                2510      \n",
            "=================================================================\n",
            "Total params: 198,760\n",
            "Trainable params: 198,760\n",
            "Non-trainable params: 0\n",
            "_________________________________________________________________\n",
            "Epoch 1/10\n",
            "469/469 [==============================] - 2s 5ms/step - loss: 0.4713 - accuracy: 0.9169 - val_loss: 0.4151 - val_accuracy: 0.9310\n",
            "Epoch 2/10\n",
            "469/469 [==============================] - 2s 5ms/step - loss: 0.3876 - accuracy: 0.9366 - val_loss: 0.3628 - val_accuracy: 0.9380\n",
            "Epoch 3/10\n",
            "469/469 [==============================] - 2s 5ms/step - loss: 0.3545 - accuracy: 0.9412 - val_loss: 0.3443 - val_accuracy: 0.9449\n",
            "Epoch 4/10\n",
            "469/469 [==============================] - 2s 5ms/step - loss: 0.3344 - accuracy: 0.9439 - val_loss: 0.3107 - val_accuracy: 0.9479\n",
            "Epoch 5/10\n",
            "469/469 [==============================] - 2s 5ms/step - loss: 0.3278 - accuracy: 0.9437 - val_loss: 0.3043 - val_accuracy: 0.9489\n",
            "Epoch 6/10\n",
            "469/469 [==============================] - 2s 5ms/step - loss: 0.3036 - accuracy: 0.9481 - val_loss: 0.3055 - val_accuracy: 0.9406\n",
            "Epoch 7/10\n",
            "469/469 [==============================] - 2s 5ms/step - loss: 0.3078 - accuracy: 0.9466 - val_loss: 0.3018 - val_accuracy: 0.9443\n",
            "Epoch 8/10\n",
            "469/469 [==============================] - 2s 5ms/step - loss: 0.3102 - accuracy: 0.9456 - val_loss: 0.2688 - val_accuracy: 0.9556\n",
            "Epoch 9/10\n",
            "469/469 [==============================] - 2s 5ms/step - loss: 0.2951 - accuracy: 0.9484 - val_loss: 0.3266 - val_accuracy: 0.9393\n",
            "Epoch 10/10\n",
            "469/469 [==============================] - 2s 5ms/step - loss: 0.3018 - accuracy: 0.9465 - val_loss: 0.2969 - val_accuracy: 0.9453\n"
          ],
          "name": "stdout"
        },
        {
          "output_type": "execute_result",
          "data": {
            "text/plain": [
              "<tensorflow.python.keras.callbacks.History at 0x7f00183259b0>"
            ]
          },
          "metadata": {
            "tags": []
          },
          "execution_count": 36
        }
      ]
    },
    {
      "cell_type": "markdown",
      "metadata": {
        "id": "EtX2So6urbBw",
        "colab_type": "text"
      },
      "source": [
        "|                          |Classification accuracy|  |\n",
        "|--------------------------|--------|--------|\n",
        "|                          |Training|Testing |\n",
        "| 50HLN+no regularization  | 0.9803 | 0.9674 |\n",
        "| 50HLN+L2 regularization  | 0.9469 | 0.9498 |\n",
        "| 250HLN+no regularization | 0.9856 | 0.9702 |\n",
        "| 250HLN+L2 regularization | 0.9465 | 0.9453 |\n",
        "\n",
        "The number of epochs is set to 10 and the learning rate to 0.01 for all configurations.\n",
        "\n",
        "The table shows that the regularization term has a negative impact on the training accuracy when compared to the MLPs with no regularization term. However, the testing error is now approximately the same as the training error, meaning that the model extrapolates well to unseen data. This is opposed to the case with no regularization, where the testing accuracy is lower than the training accuracy."
      ]
    },
    {
      "cell_type": "code",
      "metadata": {
        "id": "lQsj74Sas0FQ",
        "colab_type": "code",
        "colab": {}
      },
      "source": [
        ""
      ],
      "execution_count": 0,
      "outputs": []
    }
  ]
}