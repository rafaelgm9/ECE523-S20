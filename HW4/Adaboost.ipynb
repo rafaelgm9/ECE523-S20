{
 "cells": [
  {
   "cell_type": "markdown",
   "metadata": {},
   "source": [
    "# Adaboost"
   ]
  },
  {
   "cell_type": "code",
   "execution_count": 1,
   "metadata": {},
   "outputs": [],
   "source": [
    "import numpy as np\n",
    "from matplotlib import pyplot as plt\n",
    "from sklearn.datasets import make_classification\n",
    "from sklearn.tree import DecisionTreeClassifier\n",
    "from sklearn.model_selection import train_test_split"
   ]
  },
  {
   "cell_type": "markdown",
   "metadata": {},
   "source": [
    "## Define Adaboost class and methods"
   ]
  },
  {
   "cell_type": "code",
   "execution_count": 2,
   "metadata": {},
   "outputs": [],
   "source": [
    "class Adaboost:\n",
    "    def __init__(self):\n",
    "        return\n",
    "    \n",
    "    def adaboost(self):\n",
    "        for t in range(self.T):\n",
    "            wl = DecisionTreeClassifier(max_depth=1)\n",
    "            wl.fit(self.x, self.y, sample_weight=self.D[t])\n",
    "            self.h.append(wl)\n",
    "            \n",
    "            y_predict = wl.predict(self.x)\n",
    "            error_ids = (y_predict != self.y)\n",
    "            weighted_error = np.sum(self.D[t][error_ids])\n",
    "            \n",
    "            self.alpha[t] = 1 / 2 * np.log((1 - weighted_error) / weighted_error)\n",
    "            \n",
    "            self.D[t+1] = self.D[t] * np.exp(-self.alpha[t] * self.y * self.h[t].predict(self.x))\n",
    "            Zt = np.sum(self.D[t+1])\n",
    "            self.D[t+1] /= Zt\n",
    "        \n",
    "        return\n",
    "    \n",
    "    def fit(self, x, y, T):\n",
    "        self.x = x\n",
    "        self.y = y\n",
    "        self.T = T\n",
    "        self.N = self.y.size\n",
    "        \n",
    "        self.D = np.zeros((self.T+1, self.N))\n",
    "        self.D[0] = 1 / self.N\n",
    "        self.alpha = np.zeros(self.T)\n",
    "        \n",
    "        self.h = []\n",
    "        \n",
    "        self.adaboost()\n",
    "        \n",
    "        return\n",
    "    \n",
    "    def predict(self, x):\n",
    "        H = np.zeros(x.shape[0])\n",
    "        for t in range(self.T):\n",
    "            H += self.alpha[t] * self.h[t].predict(x)\n",
    "        \n",
    "        return np.sign(H)\n",
    "    \n",
    "    def score(self, x, y):\n",
    "        ypredict = self.predict(x)\n",
    "        return np.sum(ypredict == y) / y.size"
   ]
  },
  {
   "cell_type": "markdown",
   "metadata": {},
   "source": [
    "## Load datasets, train and evaluate"
   ]
  },
  {
   "cell_type": "code",
   "execution_count": 3,
   "metadata": {},
   "outputs": [],
   "source": [
    "datasets = [\"bank\", \"breast-cancer\", \"congressional-voting\", \"hepatitis\", \"ionosphere\", \"magic\",\n",
    "            \"ozone\", \"parkinsons\", \"ringnorm\", \"spambase\"]"
   ]
  },
  {
   "cell_type": "code",
   "execution_count": 4,
   "metadata": {},
   "outputs": [
    {
     "name": "stdout",
     "output_type": "stream",
     "text": [
      "Training accuracy: 0.90. Test accuracy: 0.87\n",
      "Training accuracy: 0.71. Test accuracy: 0.83\n",
      "Training accuracy: 0.61. Test accuracy: 0.67\n",
      "Training accuracy: 0.85. Test accuracy: 0.90\n",
      "Training accuracy: 0.93. Test accuracy: 0.97\n",
      "Training accuracy: 0.80. Test accuracy: 0.81\n",
      "Training accuracy: 0.97. Test accuracy: 0.97\n",
      "Training accuracy: 0.92. Test accuracy: 0.97\n",
      "Training accuracy: 0.81. Test accuracy: 0.82\n",
      "Training accuracy: 0.91. Test accuracy: 0.91\n"
     ]
    }
   ],
   "source": [
    "for i in range(len(datasets)):\n",
    "    path = \"../UA-ECE523-EngrAppMLData/data/\" + datasets[i] + \".csv\"\n",
    "    data = np.loadtxt(path, delimiter=\",\")\n",
    "    X, y = data[:, :-1], data[:, -1]\n",
    "    y[y == 0] = -1\n",
    "    \n",
    "    X_train, X_test, y_train, y_test = train_test_split(X, y, test_size=0.20)\n",
    "    \n",
    "    clf = Adaboost()\n",
    "    clf.fit(X, y, 10)\n",
    "    print(\"Training accuracy: {:.2f}. Test accuracy: {:.2f}\".format(clf.score(X_train, y_train), clf.score(X_test, y_test)))"
   ]
  },
  {
   "cell_type": "code",
   "execution_count": null,
   "metadata": {},
   "outputs": [],
   "source": []
  }
 ],
 "metadata": {
  "kernelspec": {
   "display_name": "Python 3",
   "language": "python",
   "name": "python3"
  },
  "language_info": {
   "codemirror_mode": {
    "name": "ipython",
    "version": 3
   },
   "file_extension": ".py",
   "mimetype": "text/x-python",
   "name": "python",
   "nbconvert_exporter": "python",
   "pygments_lexer": "ipython3",
   "version": "3.7.4"
  }
 },
 "nbformat": 4,
 "nbformat_minor": 2
}
