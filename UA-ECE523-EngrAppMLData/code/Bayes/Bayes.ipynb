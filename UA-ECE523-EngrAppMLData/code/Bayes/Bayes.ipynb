{
 "cells": [
  {
   "cell_type": "code",
   "execution_count": null,
   "metadata": {
    "collapsed": false
   },
   "outputs": [],
   "source": [
    "%matplotlib inline\n",
    "import numpy as np\n",
    "import matplotlib\n",
    "import matplotlib.pyplot as plt\n",
    "from mpl_toolkits.mplot3d import Axes3D\n",
    "from scipy.stats import norm\n",
    "from sklearn.naive_bayes import GaussianNB\n",
    "matplotlib.style.use('ggplot')"
   ]
  },
  {
   "cell_type": "code",
   "execution_count": null,
   "metadata": {
    "collapsed": false
   },
   "outputs": [],
   "source": [
    "# generate a 2D gaussian with density \n",
    "def gauss_pdf(mean, cov, x):\n",
    "    return (1./(((2*np.pi)**(1.*len(mean)/2))*np.linalg.det(cov)**.5))*np.exp(-np.matrix(x-mean)*np.matrix(np.linalg.inv(cov))*np.matrix(x-mean).T/2 ).tolist()[0][0]\n",
    "\n",
    "N = 1000\n",
    "p = []\n",
    "mean = [1, 1]\n",
    "cov = [[1, -.25], [-.25, 1]]\n",
    "x = np.random.multivariate_normal(mean, cov, N)\n",
    "\n",
    "for n in range(N):\n",
    "    p.append( gauss_pdf(mean, cov, x[n]) )\n",
    "\n",
    "p = np.array(p)\n",
    "\n",
    "# plot the 2D RVs with the 3rd dim being the pdf value \n",
    "fig = plt.figure()\n",
    "ax = fig.gca(projection='3d')\n",
    "ax.scatter(x[:,0], x[:,1], p)\n",
    "ax.legend()\n",
    "\n",
    "plt.show()"
   ]
  },
  {
   "cell_type": "code",
   "execution_count": null,
   "metadata": {
    "collapsed": false
   },
   "outputs": [],
   "source": [
    "def mahal(mean, cov, x):\n",
    "    return (-np.matrix(x-mean)*np.matrix(np.linalg.inv(cov))*np.matrix(x-mean).T/2 ).tolist()[0][0]\n",
    "\n",
    "\n",
    "x = np.random.multivariate_normal([-1, -1], [[1, -.5], [-.5, 1]], 50000)\n",
    "m = []\n",
    "for n in range(N):\n",
    "   m.append( gauss_pdf(mean, cov, x[n]) )\n",
    "\n",
    "x = x.T\n",
    "d = plt.hist2d(x[0], x[1], bins = 75)\n",
    "plt.xlabel('$x_1$')\n",
    "plt.ylabel('$x_2$')\n",
    "\n"
   ]
  },
  {
   "cell_type": "code",
   "execution_count": null,
   "metadata": {
    "collapsed": false
   },
   "outputs": [],
   "source": [
    "x = np.linspace(-3, 5, 500)\n",
    "\n",
    "pw1 = .6\n",
    "pw2 = .4\n",
    "pxw1 = norm.pdf(x, 3, .8)\n",
    "pxw2 = norm.pdf(x, 1, .6)\n",
    "px = pxw1*pw1+pxw2*pw2\n",
    "pwx1 = pxw1*pw1/px\n",
    "pwx2 = pxw2*pw2/px\n",
    "\n",
    "plt.figure()\n",
    "plt.plot(x, pxw1, 'b-', lw=5, alpha=0.6, label='$p(x|\\omega_1)$')\n",
    "plt.plot(x, pxw2, 'r-', lw=5, alpha=0.6, label='$p(x|\\omega_2)$')\n",
    "plt.plot(x, pwx1, 'b--', lw=5, alpha=0.6, label='$p(\\omega_1|x)$')\n",
    "plt.plot(x, pwx2, 'r--', lw=5, alpha=0.6, label='$p(\\omega_2|x)$')\n",
    "plt.legend()\n",
    "plt.xlabel('$x$')\n",
    "plt.ylabel('conditional probability')\n",
    "\n",
    "\n",
    "plt.figure()\n",
    "plt.plot(x, pxw1, 'b-', lw=5, alpha=0.6, label='$p(x|\\omega_1)$')\n",
    "plt.plot(x, pxw2, 'r-', lw=5, alpha=0.6, label='$p(x|\\omega_2)$')\n",
    "plt.legend()\n",
    "plt.fill_between(x, 0, pxw2, where=pxw1 > pxw2, facecolor='red', alpha=0.5)\n",
    "plt.fill_between(x, 0, pxw1, where=pxw2 > pxw1, facecolor='blue', alpha=0.5)\n",
    "plt.text(-2.9, .4, '$p_2 = \\int_{\\mathcal{R}_2}p(x|\\omega_1)p(\\omega_1)dx$', fontsize=15, color='b')\n",
    "plt.text(-2.9, .55, '$p_1 = \\int_{\\mathcal{R}_1}p(x|\\omega_2)p(\\omega_2)dx$', fontsize=15, color='r')\n",
    "plt.text(-2.9, .2, '$p_{err} = p_1+p_2$', fontsize=15)\n",
    "\n",
    "ax.arrow(1.9, 0.5, 2.1, 0.05, head_width=0.05, head_length=0.05, fc='k', ec='k')\n",
    "\n",
    "plt.xlabel('$x$')\n",
    "plt.ylabel('conditional probability')"
   ]
  },
  {
   "cell_type": "code",
   "execution_count": null,
   "metadata": {
    "collapsed": false
   },
   "outputs": [],
   "source": [
    "pxw1"
   ]
  },
  {
   "cell_type": "code",
   "execution_count": null,
   "metadata": {
    "collapsed": false
   },
   "outputs": [],
   "source": [
    "data = np.genfromtxt('../data/optical_train.csv', delimiter=',')\n",
    "X = data[:,0:-1]\n",
    "y = data[:,-1]\n",
    "data = np.genfromtxt('../data/optical_test.csv', delimiter=',')\n",
    "Xt = data[:,0:-1]\n",
    "yt = data[:,-1]\n",
    "\n",
    "gnb = GaussianNB()\n",
    "gnb.fit(X, y)\n",
    "ypred = gnb.predict(Xt)\n",
    "print \"Error: \", 100*np.sum(1.*(y_pred != yt))/len(y_pred)"
   ]
  },
  {
   "cell_type": "code",
   "execution_count": null,
   "metadata": {
    "collapsed": false
   },
   "outputs": [],
   "source": [
    "from sklearn import datasets\n",
    "iris = datasets.load_iris()\n",
    "from sklearn.naive_bayes import GaussianNB\n",
    "gnb = GaussianNB()\n",
    "y_pred = gnb.fit(iris.data, iris.target).predict(iris.data)\n",
    "print(\"Number of mislabeled points out of a total %d points : %d\"% (iris.data.shape[0],(iris.target != y_pred).sum()))\n"
   ]
  },
  {
   "cell_type": "code",
   "execution_count": null,
   "metadata": {
    "collapsed": false
   },
   "outputs": [],
   "source": [
    "print y_pred, yt"
   ]
  },
  {
   "cell_type": "code",
   "execution_count": null,
   "metadata": {
    "collapsed": true
   },
   "outputs": [],
   "source": []
  }
 ],
 "metadata": {
  "kernelspec": {
   "display_name": "Python 2",
   "language": "python",
   "name": "python2"
  },
  "language_info": {
   "codemirror_mode": {
    "name": "ipython",
    "version": 2
   },
   "file_extension": ".py",
   "mimetype": "text/x-python",
   "name": "python",
   "nbconvert_exporter": "python",
   "pygments_lexer": "ipython2",
   "version": "2.7.12"
  }
 },
 "nbformat": 4,
 "nbformat_minor": 0
}
